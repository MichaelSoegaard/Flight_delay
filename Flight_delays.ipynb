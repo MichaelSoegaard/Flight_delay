{
 "cells": [
  {
   "cell_type": "code",
   "execution_count": 49,
   "metadata": {},
   "outputs": [],
   "source": [
    "import pandas as pd\n",
    "import numpy as np\n",
    "from sklearn.preprocessing import OrdinalEncoder, OneHotEncoder, StandardScaler\n",
    "import seaborn as sn\n",
    "import matplotlib.pyplot as plt\n",
    "\n",
    "from sklearn.decomposition import PCA, TruncatedSVD\n",
    "from sklearn.pipeline import make_pipeline, Pipeline\n",
    "from sklearn.model_selection import GridSearchCV, train_test_split\n",
    "from sklearn.linear_model import LogisticRegression\n",
    "from sklearn.compose import make_column_transformer\n",
    "from sklearn.metrics import roc_auc_score, roc_curve, confusion_matrix, plot_confusion_matrix, classification_report, precision_recall_curve\n",
    "from sklearn.impute import SimpleImputer\n",
    "from sklearn.experimental import enable_hist_gradient_boosting\n",
    "from sklearn.ensemble import HistGradientBoostingClassifier, RandomForestClassifier\n",
    "from lightgbm.sklearn import LGBMClassifier\n",
    "import xgboost as xgb\n",
    "import matplotlib.pyplot as plt\n",
    "plt.style.use('seaborn-white')\n",
    "%matplotlib inline"
   ]
  },
  {
   "cell_type": "code",
   "execution_count": 2,
   "metadata": {},
   "outputs": [
    {
     "data": {
      "text/html": [
       "<div>\n",
       "<style scoped>\n",
       "    .dataframe tbody tr th:only-of-type {\n",
       "        vertical-align: middle;\n",
       "    }\n",
       "\n",
       "    .dataframe tbody tr th {\n",
       "        vertical-align: top;\n",
       "    }\n",
       "\n",
       "    .dataframe thead th {\n",
       "        text-align: right;\n",
       "    }\n",
       "</style>\n",
       "<table border=\"1\" class=\"dataframe\">\n",
       "  <thead>\n",
       "    <tr style=\"text-align: right;\">\n",
       "      <th></th>\n",
       "      <th>DAY_OF_MONTH</th>\n",
       "      <th>DAY_OF_WEEK</th>\n",
       "      <th>OP_UNIQUE_CARRIER</th>\n",
       "      <th>OP_CARRIER_AIRLINE_ID</th>\n",
       "      <th>OP_CARRIER</th>\n",
       "      <th>TAIL_NUM</th>\n",
       "      <th>OP_CARRIER_FL_NUM</th>\n",
       "      <th>ORIGIN_AIRPORT_ID</th>\n",
       "      <th>ORIGIN_AIRPORT_SEQ_ID</th>\n",
       "      <th>ORIGIN</th>\n",
       "      <th>...</th>\n",
       "      <th>DEST_AIRPORT_SEQ_ID</th>\n",
       "      <th>DEST</th>\n",
       "      <th>DEP_TIME</th>\n",
       "      <th>DEP_DEL15</th>\n",
       "      <th>DEP_TIME_BLK</th>\n",
       "      <th>ARR_TIME</th>\n",
       "      <th>ARR_DEL15</th>\n",
       "      <th>CANCELLED</th>\n",
       "      <th>DIVERTED</th>\n",
       "      <th>DISTANCE</th>\n",
       "    </tr>\n",
       "  </thead>\n",
       "  <tbody>\n",
       "    <tr>\n",
       "      <th>0</th>\n",
       "      <td>1</td>\n",
       "      <td>3</td>\n",
       "      <td>EV</td>\n",
       "      <td>20366</td>\n",
       "      <td>EV</td>\n",
       "      <td>N48901</td>\n",
       "      <td>4397</td>\n",
       "      <td>13930</td>\n",
       "      <td>1393007</td>\n",
       "      <td>ORD</td>\n",
       "      <td>...</td>\n",
       "      <td>1197705</td>\n",
       "      <td>GRB</td>\n",
       "      <td>1003.0</td>\n",
       "      <td>0.0</td>\n",
       "      <td>1000-1059</td>\n",
       "      <td>1117.0</td>\n",
       "      <td>0.0</td>\n",
       "      <td>0.0</td>\n",
       "      <td>0.0</td>\n",
       "      <td>174.0</td>\n",
       "    </tr>\n",
       "    <tr>\n",
       "      <th>1</th>\n",
       "      <td>1</td>\n",
       "      <td>3</td>\n",
       "      <td>EV</td>\n",
       "      <td>20366</td>\n",
       "      <td>EV</td>\n",
       "      <td>N16976</td>\n",
       "      <td>4401</td>\n",
       "      <td>15370</td>\n",
       "      <td>1537002</td>\n",
       "      <td>TUL</td>\n",
       "      <td>...</td>\n",
       "      <td>1393007</td>\n",
       "      <td>ORD</td>\n",
       "      <td>1027.0</td>\n",
       "      <td>0.0</td>\n",
       "      <td>1000-1059</td>\n",
       "      <td>1216.0</td>\n",
       "      <td>0.0</td>\n",
       "      <td>0.0</td>\n",
       "      <td>0.0</td>\n",
       "      <td>585.0</td>\n",
       "    </tr>\n",
       "    <tr>\n",
       "      <th>2</th>\n",
       "      <td>1</td>\n",
       "      <td>3</td>\n",
       "      <td>EV</td>\n",
       "      <td>20366</td>\n",
       "      <td>EV</td>\n",
       "      <td>N12167</td>\n",
       "      <td>4404</td>\n",
       "      <td>11618</td>\n",
       "      <td>1161802</td>\n",
       "      <td>EWR</td>\n",
       "      <td>...</td>\n",
       "      <td>1541205</td>\n",
       "      <td>TYS</td>\n",
       "      <td>1848.0</td>\n",
       "      <td>0.0</td>\n",
       "      <td>1800-1859</td>\n",
       "      <td>2120.0</td>\n",
       "      <td>0.0</td>\n",
       "      <td>0.0</td>\n",
       "      <td>0.0</td>\n",
       "      <td>631.0</td>\n",
       "    </tr>\n",
       "    <tr>\n",
       "      <th>3</th>\n",
       "      <td>1</td>\n",
       "      <td>3</td>\n",
       "      <td>EV</td>\n",
       "      <td>20366</td>\n",
       "      <td>EV</td>\n",
       "      <td>N14902</td>\n",
       "      <td>4405</td>\n",
       "      <td>10781</td>\n",
       "      <td>1078105</td>\n",
       "      <td>BTR</td>\n",
       "      <td>...</td>\n",
       "      <td>1226603</td>\n",
       "      <td>IAH</td>\n",
       "      <td>1846.0</td>\n",
       "      <td>0.0</td>\n",
       "      <td>1800-1859</td>\n",
       "      <td>2004.0</td>\n",
       "      <td>0.0</td>\n",
       "      <td>0.0</td>\n",
       "      <td>0.0</td>\n",
       "      <td>253.0</td>\n",
       "    </tr>\n",
       "    <tr>\n",
       "      <th>4</th>\n",
       "      <td>1</td>\n",
       "      <td>3</td>\n",
       "      <td>EV</td>\n",
       "      <td>20366</td>\n",
       "      <td>EV</td>\n",
       "      <td>N606UX</td>\n",
       "      <td>4407</td>\n",
       "      <td>14524</td>\n",
       "      <td>1452401</td>\n",
       "      <td>RIC</td>\n",
       "      <td>...</td>\n",
       "      <td>1226603</td>\n",
       "      <td>IAH</td>\n",
       "      <td>1038.0</td>\n",
       "      <td>0.0</td>\n",
       "      <td>1000-1059</td>\n",
       "      <td>1330.0</td>\n",
       "      <td>0.0</td>\n",
       "      <td>0.0</td>\n",
       "      <td>0.0</td>\n",
       "      <td>1157.0</td>\n",
       "    </tr>\n",
       "  </tbody>\n",
       "</table>\n",
       "<p>5 rows × 21 columns</p>\n",
       "</div>"
      ],
      "text/plain": [
       "   DAY_OF_MONTH  DAY_OF_WEEK OP_UNIQUE_CARRIER  OP_CARRIER_AIRLINE_ID  \\\n",
       "0             1            3                EV                  20366   \n",
       "1             1            3                EV                  20366   \n",
       "2             1            3                EV                  20366   \n",
       "3             1            3                EV                  20366   \n",
       "4             1            3                EV                  20366   \n",
       "\n",
       "  OP_CARRIER TAIL_NUM  OP_CARRIER_FL_NUM  ORIGIN_AIRPORT_ID  \\\n",
       "0         EV   N48901               4397              13930   \n",
       "1         EV   N16976               4401              15370   \n",
       "2         EV   N12167               4404              11618   \n",
       "3         EV   N14902               4405              10781   \n",
       "4         EV   N606UX               4407              14524   \n",
       "\n",
       "   ORIGIN_AIRPORT_SEQ_ID ORIGIN  ...  DEST_AIRPORT_SEQ_ID  DEST DEP_TIME  \\\n",
       "0                1393007    ORD  ...              1197705   GRB   1003.0   \n",
       "1                1537002    TUL  ...              1393007   ORD   1027.0   \n",
       "2                1161802    EWR  ...              1541205   TYS   1848.0   \n",
       "3                1078105    BTR  ...              1226603   IAH   1846.0   \n",
       "4                1452401    RIC  ...              1226603   IAH   1038.0   \n",
       "\n",
       "   DEP_DEL15  DEP_TIME_BLK ARR_TIME  ARR_DEL15  CANCELLED  DIVERTED  DISTANCE  \n",
       "0        0.0     1000-1059   1117.0        0.0        0.0       0.0     174.0  \n",
       "1        0.0     1000-1059   1216.0        0.0        0.0       0.0     585.0  \n",
       "2        0.0     1800-1859   2120.0        0.0        0.0       0.0     631.0  \n",
       "3        0.0     1800-1859   2004.0        0.0        0.0       0.0     253.0  \n",
       "4        0.0     1000-1059   1330.0        0.0        0.0       0.0    1157.0  \n",
       "\n",
       "[5 rows x 21 columns]"
      ]
     },
     "execution_count": 2,
     "metadata": {},
     "output_type": "execute_result"
    }
   ],
   "source": [
    "data20 = pd.read_csv('Jan_2020_ontime.csv')\n",
    "data20.drop(['Unnamed: 21'], axis=1, inplace=True)\n",
    "data20.head()"
   ]
  },
  {
   "cell_type": "code",
   "execution_count": 3,
   "metadata": {},
   "outputs": [],
   "source": [
    "data19 = pd.read_csv('Jan_2019_ontime.csv')\n",
    "data19.drop(['Unnamed: 21'], axis=1, inplace=True)\n",
    "#data19.head()"
   ]
  },
  {
   "cell_type": "code",
   "execution_count": 4,
   "metadata": {},
   "outputs": [],
   "source": [
    "#We concatenate the two January dataset from 2019 and 2020 \n",
    "data = pd.concat([data19, data20])"
   ]
  },
  {
   "cell_type": "code",
   "execution_count": 5,
   "metadata": {},
   "outputs": [
    {
     "data": {
      "text/plain": [
       "(1191331, 21)"
      ]
     },
     "execution_count": 5,
     "metadata": {},
     "output_type": "execute_result"
    }
   ],
   "source": [
    "data.shape"
   ]
  },
  {
   "cell_type": "code",
   "execution_count": 6,
   "metadata": {},
   "outputs": [
    {
     "data": {
      "text/html": [
       "<div>\n",
       "<style scoped>\n",
       "    .dataframe tbody tr th:only-of-type {\n",
       "        vertical-align: middle;\n",
       "    }\n",
       "\n",
       "    .dataframe tbody tr th {\n",
       "        vertical-align: top;\n",
       "    }\n",
       "\n",
       "    .dataframe thead th {\n",
       "        text-align: right;\n",
       "    }\n",
       "</style>\n",
       "<table border=\"1\" class=\"dataframe\">\n",
       "  <thead>\n",
       "    <tr style=\"text-align: right;\">\n",
       "      <th></th>\n",
       "      <th>DAY_OF_MONTH</th>\n",
       "      <th>DAY_OF_WEEK</th>\n",
       "      <th>OP_CARRIER_AIRLINE_ID</th>\n",
       "      <th>OP_CARRIER_FL_NUM</th>\n",
       "      <th>ORIGIN_AIRPORT_ID</th>\n",
       "      <th>ORIGIN_AIRPORT_SEQ_ID</th>\n",
       "      <th>DEST_AIRPORT_ID</th>\n",
       "      <th>DEST_AIRPORT_SEQ_ID</th>\n",
       "      <th>DEP_TIME</th>\n",
       "      <th>DEP_DEL15</th>\n",
       "      <th>ARR_TIME</th>\n",
       "      <th>ARR_DEL15</th>\n",
       "      <th>CANCELLED</th>\n",
       "      <th>DIVERTED</th>\n",
       "      <th>DISTANCE</th>\n",
       "    </tr>\n",
       "  </thead>\n",
       "  <tbody>\n",
       "    <tr>\n",
       "      <th>count</th>\n",
       "      <td>1.191331e+06</td>\n",
       "      <td>1.191331e+06</td>\n",
       "      <td>1.191331e+06</td>\n",
       "      <td>1.191331e+06</td>\n",
       "      <td>1.191331e+06</td>\n",
       "      <td>1.191331e+06</td>\n",
       "      <td>1.191331e+06</td>\n",
       "      <td>1.191331e+06</td>\n",
       "      <td>1.168315e+06</td>\n",
       "      <td>1.168277e+06</td>\n",
       "      <td>1.167195e+06</td>\n",
       "      <td>1.165231e+06</td>\n",
       "      <td>1.191331e+06</td>\n",
       "      <td>1.191331e+06</td>\n",
       "      <td>1.191331e+06</td>\n",
       "    </tr>\n",
       "    <tr>\n",
       "      <th>mean</th>\n",
       "      <td>1.598775e+01</td>\n",
       "      <td>3.896858e+00</td>\n",
       "      <td>1.998878e+04</td>\n",
       "      <td>2.580946e+03</td>\n",
       "      <td>1.265852e+04</td>\n",
       "      <td>1.265856e+06</td>\n",
       "      <td>1.265831e+04</td>\n",
       "      <td>1.265835e+06</td>\n",
       "      <td>1.331729e+03</td>\n",
       "      <td>1.547672e-01</td>\n",
       "      <td>1.481052e+03</td>\n",
       "      <td>1.609183e-01</td>\n",
       "      <td>1.985510e-02</td>\n",
       "      <td>2.053166e-03</td>\n",
       "      <td>7.978853e+02</td>\n",
       "    </tr>\n",
       "    <tr>\n",
       "      <th>std</th>\n",
       "      <td>8.989395e+00</td>\n",
       "      <td>1.916886e+00</td>\n",
       "      <td>3.767608e+02</td>\n",
       "      <td>1.822637e+03</td>\n",
       "      <td>1.521957e+03</td>\n",
       "      <td>1.521955e+05</td>\n",
       "      <td>1.521858e+03</td>\n",
       "      <td>1.521856e+05</td>\n",
       "      <td>4.962741e+02</td>\n",
       "      <td>3.616828e-01</td>\n",
       "      <td>5.243978e+02</td>\n",
       "      <td>3.674557e-01</td>\n",
       "      <td>1.395023e-01</td>\n",
       "      <td>4.526535e-02</td>\n",
       "      <td>5.886157e+02</td>\n",
       "    </tr>\n",
       "    <tr>\n",
       "      <th>min</th>\n",
       "      <td>1.000000e+00</td>\n",
       "      <td>1.000000e+00</td>\n",
       "      <td>1.939300e+04</td>\n",
       "      <td>1.000000e+00</td>\n",
       "      <td>1.013500e+04</td>\n",
       "      <td>1.013505e+06</td>\n",
       "      <td>1.013500e+04</td>\n",
       "      <td>1.013505e+06</td>\n",
       "      <td>1.000000e+00</td>\n",
       "      <td>0.000000e+00</td>\n",
       "      <td>1.000000e+00</td>\n",
       "      <td>0.000000e+00</td>\n",
       "      <td>0.000000e+00</td>\n",
       "      <td>0.000000e+00</td>\n",
       "      <td>3.100000e+01</td>\n",
       "    </tr>\n",
       "    <tr>\n",
       "      <th>25%</th>\n",
       "      <td>8.000000e+00</td>\n",
       "      <td>2.000000e+00</td>\n",
       "      <td>1.979000e+04</td>\n",
       "      <td>1.027000e+03</td>\n",
       "      <td>1.129200e+04</td>\n",
       "      <td>1.129202e+06</td>\n",
       "      <td>1.129200e+04</td>\n",
       "      <td>1.129202e+06</td>\n",
       "      <td>9.200000e+02</td>\n",
       "      <td>0.000000e+00</td>\n",
       "      <td>1.101000e+03</td>\n",
       "      <td>0.000000e+00</td>\n",
       "      <td>0.000000e+00</td>\n",
       "      <td>0.000000e+00</td>\n",
       "      <td>3.660000e+02</td>\n",
       "    </tr>\n",
       "    <tr>\n",
       "      <th>50%</th>\n",
       "      <td>1.600000e+01</td>\n",
       "      <td>4.000000e+00</td>\n",
       "      <td>1.997700e+04</td>\n",
       "      <td>2.142000e+03</td>\n",
       "      <td>1.288900e+04</td>\n",
       "      <td>1.288903e+06</td>\n",
       "      <td>1.288900e+04</td>\n",
       "      <td>1.288903e+06</td>\n",
       "      <td>1.327000e+03</td>\n",
       "      <td>0.000000e+00</td>\n",
       "      <td>1.515000e+03</td>\n",
       "      <td>0.000000e+00</td>\n",
       "      <td>0.000000e+00</td>\n",
       "      <td>0.000000e+00</td>\n",
       "      <td>6.400000e+02</td>\n",
       "    </tr>\n",
       "    <tr>\n",
       "      <th>75%</th>\n",
       "      <td>2.400000e+01</td>\n",
       "      <td>5.000000e+00</td>\n",
       "      <td>2.036800e+04</td>\n",
       "      <td>4.009000e+03</td>\n",
       "      <td>1.402700e+04</td>\n",
       "      <td>1.402702e+06</td>\n",
       "      <td>1.402700e+04</td>\n",
       "      <td>1.402702e+06</td>\n",
       "      <td>1.739000e+03</td>\n",
       "      <td>0.000000e+00</td>\n",
       "      <td>1.919000e+03</td>\n",
       "      <td>0.000000e+00</td>\n",
       "      <td>0.000000e+00</td>\n",
       "      <td>0.000000e+00</td>\n",
       "      <td>1.037000e+03</td>\n",
       "    </tr>\n",
       "    <tr>\n",
       "      <th>max</th>\n",
       "      <td>3.100000e+01</td>\n",
       "      <td>7.000000e+00</td>\n",
       "      <td>2.045200e+04</td>\n",
       "      <td>7.439000e+03</td>\n",
       "      <td>1.686900e+04</td>\n",
       "      <td>1.686901e+06</td>\n",
       "      <td>1.686900e+04</td>\n",
       "      <td>1.686901e+06</td>\n",
       "      <td>2.400000e+03</td>\n",
       "      <td>1.000000e+00</td>\n",
       "      <td>2.400000e+03</td>\n",
       "      <td>1.000000e+00</td>\n",
       "      <td>1.000000e+00</td>\n",
       "      <td>1.000000e+00</td>\n",
       "      <td>5.095000e+03</td>\n",
       "    </tr>\n",
       "  </tbody>\n",
       "</table>\n",
       "</div>"
      ],
      "text/plain": [
       "       DAY_OF_MONTH   DAY_OF_WEEK  OP_CARRIER_AIRLINE_ID  OP_CARRIER_FL_NUM  \\\n",
       "count  1.191331e+06  1.191331e+06           1.191331e+06       1.191331e+06   \n",
       "mean   1.598775e+01  3.896858e+00           1.998878e+04       2.580946e+03   \n",
       "std    8.989395e+00  1.916886e+00           3.767608e+02       1.822637e+03   \n",
       "min    1.000000e+00  1.000000e+00           1.939300e+04       1.000000e+00   \n",
       "25%    8.000000e+00  2.000000e+00           1.979000e+04       1.027000e+03   \n",
       "50%    1.600000e+01  4.000000e+00           1.997700e+04       2.142000e+03   \n",
       "75%    2.400000e+01  5.000000e+00           2.036800e+04       4.009000e+03   \n",
       "max    3.100000e+01  7.000000e+00           2.045200e+04       7.439000e+03   \n",
       "\n",
       "       ORIGIN_AIRPORT_ID  ORIGIN_AIRPORT_SEQ_ID  DEST_AIRPORT_ID  \\\n",
       "count       1.191331e+06           1.191331e+06     1.191331e+06   \n",
       "mean        1.265852e+04           1.265856e+06     1.265831e+04   \n",
       "std         1.521957e+03           1.521955e+05     1.521858e+03   \n",
       "min         1.013500e+04           1.013505e+06     1.013500e+04   \n",
       "25%         1.129200e+04           1.129202e+06     1.129200e+04   \n",
       "50%         1.288900e+04           1.288903e+06     1.288900e+04   \n",
       "75%         1.402700e+04           1.402702e+06     1.402700e+04   \n",
       "max         1.686900e+04           1.686901e+06     1.686900e+04   \n",
       "\n",
       "       DEST_AIRPORT_SEQ_ID      DEP_TIME     DEP_DEL15      ARR_TIME  \\\n",
       "count         1.191331e+06  1.168315e+06  1.168277e+06  1.167195e+06   \n",
       "mean          1.265835e+06  1.331729e+03  1.547672e-01  1.481052e+03   \n",
       "std           1.521856e+05  4.962741e+02  3.616828e-01  5.243978e+02   \n",
       "min           1.013505e+06  1.000000e+00  0.000000e+00  1.000000e+00   \n",
       "25%           1.129202e+06  9.200000e+02  0.000000e+00  1.101000e+03   \n",
       "50%           1.288903e+06  1.327000e+03  0.000000e+00  1.515000e+03   \n",
       "75%           1.402702e+06  1.739000e+03  0.000000e+00  1.919000e+03   \n",
       "max           1.686901e+06  2.400000e+03  1.000000e+00  2.400000e+03   \n",
       "\n",
       "          ARR_DEL15     CANCELLED      DIVERTED      DISTANCE  \n",
       "count  1.165231e+06  1.191331e+06  1.191331e+06  1.191331e+06  \n",
       "mean   1.609183e-01  1.985510e-02  2.053166e-03  7.978853e+02  \n",
       "std    3.674557e-01  1.395023e-01  4.526535e-02  5.886157e+02  \n",
       "min    0.000000e+00  0.000000e+00  0.000000e+00  3.100000e+01  \n",
       "25%    0.000000e+00  0.000000e+00  0.000000e+00  3.660000e+02  \n",
       "50%    0.000000e+00  0.000000e+00  0.000000e+00  6.400000e+02  \n",
       "75%    0.000000e+00  0.000000e+00  0.000000e+00  1.037000e+03  \n",
       "max    1.000000e+00  1.000000e+00  1.000000e+00  5.095000e+03  "
      ]
     },
     "execution_count": 6,
     "metadata": {},
     "output_type": "execute_result"
    }
   ],
   "source": [
    "# A closer look at the dataset\n",
    "data.describe()"
   ]
  },
  {
   "cell_type": "code",
   "execution_count": 7,
   "metadata": {},
   "outputs": [],
   "source": []
  },
  {
   "cell_type": "code",
   "execution_count": 8,
   "metadata": {},
   "outputs": [
    {
     "data": {
      "text/plain": [
       "DAY_OF_MONTH               int64\n",
       "DAY_OF_WEEK                int64\n",
       "OP_UNIQUE_CARRIER         object\n",
       "OP_CARRIER_AIRLINE_ID      int64\n",
       "OP_CARRIER                object\n",
       "TAIL_NUM                  object\n",
       "OP_CARRIER_FL_NUM          int64\n",
       "ORIGIN_AIRPORT_ID          int64\n",
       "ORIGIN_AIRPORT_SEQ_ID      int64\n",
       "ORIGIN                    object\n",
       "DEST_AIRPORT_ID            int64\n",
       "DEST_AIRPORT_SEQ_ID        int64\n",
       "DEST                      object\n",
       "DEP_TIME                 float64\n",
       "DEP_DEL15                float64\n",
       "DEP_TIME_BLK              object\n",
       "ARR_TIME                 float64\n",
       "ARR_DEL15                float64\n",
       "CANCELLED                float64\n",
       "DIVERTED                 float64\n",
       "DISTANCE                 float64\n",
       "dtype: object"
      ]
     },
     "execution_count": 8,
     "metadata": {},
     "output_type": "execute_result"
    }
   ],
   "source": [
    "data.dtypes"
   ]
  },
  {
   "cell_type": "code",
   "execution_count": 9,
   "metadata": {},
   "outputs": [
    {
     "name": "stdout",
     "output_type": "stream",
     "text": [
      "OP_UNIQUE_CARRIER and OP_CARRIER are equal\n",
      "OP_CARRIER and OP_UNIQUE_CARRIER are equal\n"
     ]
    }
   ],
   "source": [
    "#Test if any of the features are duplicates\n",
    "for feature1 in data.columns.values:\n",
    "    for feature2 in data.columns.values:\n",
    "        if feature1 == feature2:\n",
    "            pass\n",
    "        elif np.array_equal(data[feature1], data[feature2]):\n",
    "            print(f'{feature1} and {feature2} are equal')\n",
    "        else:\n",
    "            pass"
   ]
  },
  {
   "cell_type": "code",
   "execution_count": 10,
   "metadata": {},
   "outputs": [
    {
     "data": {
      "text/plain": [
       "<bound method Series.unique of 0         N8688C\n",
       "1         N348PQ\n",
       "2         N8896A\n",
       "3         N8886A\n",
       "4         N8974C\n",
       "           ...  \n",
       "607341    N331CA\n",
       "607342    N295PQ\n",
       "607343    N294PQ\n",
       "607344    N228PQ\n",
       "607345    N228PQ\n",
       "Name: TAIL_NUM, Length: 1191331, dtype: object>"
      ]
     },
     "execution_count": 10,
     "metadata": {},
     "output_type": "execute_result"
    }
   ],
   "source": [
    "data['TAIL_NUM'].unique"
   ]
  },
  {
   "cell_type": "code",
   "execution_count": 11,
   "metadata": {},
   "outputs": [],
   "source": [
    "#We remove the \"DEP_TIME\" column because it basicly is a copy of \"DEP_TIME_BLK\" and we will drop OP_UNIQUE_CARRIER as it is a duplicate\n",
    "#We will also drop TAIL_NUM as it has a lot of unique values and thus doesn't add any info to this dataset. \n",
    "data.drop(['DEP_TIME', 'OP_UNIQUE_CARRIER', 'TAIL_NUM'], axis=1, inplace=True)"
   ]
  },
  {
   "cell_type": "markdown",
   "metadata": {},
   "source": [
    "#### TEST FOR CORRELATION"
   ]
  },
  {
   "cell_type": "code",
   "execution_count": 12,
   "metadata": {},
   "outputs": [
    {
     "data": {
      "text/html": [
       "<div>\n",
       "<style scoped>\n",
       "    .dataframe tbody tr th:only-of-type {\n",
       "        vertical-align: middle;\n",
       "    }\n",
       "\n",
       "    .dataframe tbody tr th {\n",
       "        vertical-align: top;\n",
       "    }\n",
       "\n",
       "    .dataframe thead th {\n",
       "        text-align: right;\n",
       "    }\n",
       "</style>\n",
       "<table border=\"1\" class=\"dataframe\">\n",
       "  <thead>\n",
       "    <tr style=\"text-align: right;\">\n",
       "      <th></th>\n",
       "      <th>DAY_OF_MONTH</th>\n",
       "      <th>DAY_OF_WEEK</th>\n",
       "      <th>OP_CARRIER_AIRLINE_ID</th>\n",
       "      <th>OP_CARRIER_FL_NUM</th>\n",
       "      <th>ORIGIN_AIRPORT_ID</th>\n",
       "      <th>ORIGIN_AIRPORT_SEQ_ID</th>\n",
       "      <th>DEST_AIRPORT_ID</th>\n",
       "      <th>DEST_AIRPORT_SEQ_ID</th>\n",
       "      <th>DEP_DEL15</th>\n",
       "      <th>ARR_TIME</th>\n",
       "      <th>ARR_DEL15</th>\n",
       "      <th>CANCELLED</th>\n",
       "      <th>DIVERTED</th>\n",
       "      <th>DISTANCE</th>\n",
       "    </tr>\n",
       "  </thead>\n",
       "  <tbody>\n",
       "    <tr>\n",
       "      <th>DAY_OF_MONTH</th>\n",
       "      <td>1.000000</td>\n",
       "      <td>-0.042553</td>\n",
       "      <td>-0.001265</td>\n",
       "      <td>-0.015823</td>\n",
       "      <td>-0.004971</td>\n",
       "      <td>-0.004971</td>\n",
       "      <td>-0.004963</td>\n",
       "      <td>-0.004963</td>\n",
       "      <td>-0.013177</td>\n",
       "      <td>0.006048</td>\n",
       "      <td>-0.005327</td>\n",
       "      <td>0.063046</td>\n",
       "      <td>0.000522</td>\n",
       "      <td>-0.020558</td>\n",
       "    </tr>\n",
       "    <tr>\n",
       "      <th>DAY_OF_WEEK</th>\n",
       "      <td>-0.042553</td>\n",
       "      <td>1.000000</td>\n",
       "      <td>0.007998</td>\n",
       "      <td>0.059044</td>\n",
       "      <td>0.005538</td>\n",
       "      <td>0.005538</td>\n",
       "      <td>0.005226</td>\n",
       "      <td>0.005226</td>\n",
       "      <td>0.022601</td>\n",
       "      <td>0.001044</td>\n",
       "      <td>0.024707</td>\n",
       "      <td>0.008820</td>\n",
       "      <td>0.001541</td>\n",
       "      <td>0.019302</td>\n",
       "    </tr>\n",
       "    <tr>\n",
       "      <th>OP_CARRIER_AIRLINE_ID</th>\n",
       "      <td>-0.001265</td>\n",
       "      <td>0.007998</td>\n",
       "      <td>1.000000</td>\n",
       "      <td>0.437421</td>\n",
       "      <td>-0.047495</td>\n",
       "      <td>-0.047495</td>\n",
       "      <td>-0.047675</td>\n",
       "      <td>-0.047675</td>\n",
       "      <td>0.035887</td>\n",
       "      <td>-0.015241</td>\n",
       "      <td>0.070229</td>\n",
       "      <td>0.017882</td>\n",
       "      <td>0.011691</td>\n",
       "      <td>-0.127043</td>\n",
       "    </tr>\n",
       "    <tr>\n",
       "      <th>OP_CARRIER_FL_NUM</th>\n",
       "      <td>-0.015823</td>\n",
       "      <td>0.059044</td>\n",
       "      <td>0.437421</td>\n",
       "      <td>1.000000</td>\n",
       "      <td>-0.054657</td>\n",
       "      <td>-0.054657</td>\n",
       "      <td>-0.059944</td>\n",
       "      <td>-0.059945</td>\n",
       "      <td>0.024047</td>\n",
       "      <td>0.007673</td>\n",
       "      <td>0.033355</td>\n",
       "      <td>0.034782</td>\n",
       "      <td>0.007428</td>\n",
       "      <td>-0.347685</td>\n",
       "    </tr>\n",
       "    <tr>\n",
       "      <th>ORIGIN_AIRPORT_ID</th>\n",
       "      <td>-0.004971</td>\n",
       "      <td>0.005538</td>\n",
       "      <td>-0.047495</td>\n",
       "      <td>-0.054657</td>\n",
       "      <td>1.000000</td>\n",
       "      <td>1.000000</td>\n",
       "      <td>0.017462</td>\n",
       "      <td>0.017463</td>\n",
       "      <td>0.002847</td>\n",
       "      <td>-0.004194</td>\n",
       "      <td>0.007959</td>\n",
       "      <td>0.011872</td>\n",
       "      <td>-0.001090</td>\n",
       "      <td>0.089662</td>\n",
       "    </tr>\n",
       "    <tr>\n",
       "      <th>ORIGIN_AIRPORT_SEQ_ID</th>\n",
       "      <td>-0.004971</td>\n",
       "      <td>0.005538</td>\n",
       "      <td>-0.047495</td>\n",
       "      <td>-0.054657</td>\n",
       "      <td>1.000000</td>\n",
       "      <td>1.000000</td>\n",
       "      <td>0.017463</td>\n",
       "      <td>0.017463</td>\n",
       "      <td>0.002847</td>\n",
       "      <td>-0.004194</td>\n",
       "      <td>0.007959</td>\n",
       "      <td>0.011872</td>\n",
       "      <td>-0.001090</td>\n",
       "      <td>0.089662</td>\n",
       "    </tr>\n",
       "    <tr>\n",
       "      <th>DEST_AIRPORT_ID</th>\n",
       "      <td>-0.004963</td>\n",
       "      <td>0.005226</td>\n",
       "      <td>-0.047675</td>\n",
       "      <td>-0.059944</td>\n",
       "      <td>0.017462</td>\n",
       "      <td>0.017463</td>\n",
       "      <td>1.000000</td>\n",
       "      <td>1.000000</td>\n",
       "      <td>0.009664</td>\n",
       "      <td>0.023973</td>\n",
       "      <td>0.010728</td>\n",
       "      <td>0.011055</td>\n",
       "      <td>0.003175</td>\n",
       "      <td>0.089691</td>\n",
       "    </tr>\n",
       "    <tr>\n",
       "      <th>DEST_AIRPORT_SEQ_ID</th>\n",
       "      <td>-0.004963</td>\n",
       "      <td>0.005226</td>\n",
       "      <td>-0.047675</td>\n",
       "      <td>-0.059945</td>\n",
       "      <td>0.017463</td>\n",
       "      <td>0.017463</td>\n",
       "      <td>1.000000</td>\n",
       "      <td>1.000000</td>\n",
       "      <td>0.009664</td>\n",
       "      <td>0.023973</td>\n",
       "      <td>0.010728</td>\n",
       "      <td>0.011055</td>\n",
       "      <td>0.003175</td>\n",
       "      <td>0.089691</td>\n",
       "    </tr>\n",
       "    <tr>\n",
       "      <th>DEP_DEL15</th>\n",
       "      <td>-0.013177</td>\n",
       "      <td>0.022601</td>\n",
       "      <td>0.035887</td>\n",
       "      <td>0.024047</td>\n",
       "      <td>0.002847</td>\n",
       "      <td>0.002847</td>\n",
       "      <td>0.009664</td>\n",
       "      <td>0.009664</td>\n",
       "      <td>1.000000</td>\n",
       "      <td>0.080924</td>\n",
       "      <td>0.716551</td>\n",
       "      <td>0.019339</td>\n",
       "      <td>0.020837</td>\n",
       "      <td>0.012579</td>\n",
       "    </tr>\n",
       "    <tr>\n",
       "      <th>ARR_TIME</th>\n",
       "      <td>0.006048</td>\n",
       "      <td>0.001044</td>\n",
       "      <td>-0.015241</td>\n",
       "      <td>0.007673</td>\n",
       "      <td>-0.004194</td>\n",
       "      <td>-0.004194</td>\n",
       "      <td>0.023973</td>\n",
       "      <td>0.023973</td>\n",
       "      <td>0.080924</td>\n",
       "      <td>1.000000</td>\n",
       "      <td>0.055586</td>\n",
       "      <td>NaN</td>\n",
       "      <td>-0.004465</td>\n",
       "      <td>0.012479</td>\n",
       "    </tr>\n",
       "    <tr>\n",
       "      <th>ARR_DEL15</th>\n",
       "      <td>-0.005327</td>\n",
       "      <td>0.024707</td>\n",
       "      <td>0.070229</td>\n",
       "      <td>0.033355</td>\n",
       "      <td>0.007959</td>\n",
       "      <td>0.007959</td>\n",
       "      <td>0.010728</td>\n",
       "      <td>0.010728</td>\n",
       "      <td>0.716551</td>\n",
       "      <td>0.055586</td>\n",
       "      <td>1.000000</td>\n",
       "      <td>NaN</td>\n",
       "      <td>NaN</td>\n",
       "      <td>0.006920</td>\n",
       "    </tr>\n",
       "    <tr>\n",
       "      <th>CANCELLED</th>\n",
       "      <td>0.063046</td>\n",
       "      <td>0.008820</td>\n",
       "      <td>0.017882</td>\n",
       "      <td>0.034782</td>\n",
       "      <td>0.011872</td>\n",
       "      <td>0.011872</td>\n",
       "      <td>0.011055</td>\n",
       "      <td>0.011055</td>\n",
       "      <td>0.019339</td>\n",
       "      <td>NaN</td>\n",
       "      <td>NaN</td>\n",
       "      <td>1.000000</td>\n",
       "      <td>-0.006456</td>\n",
       "      <td>-0.040557</td>\n",
       "    </tr>\n",
       "    <tr>\n",
       "      <th>DIVERTED</th>\n",
       "      <td>0.000522</td>\n",
       "      <td>0.001541</td>\n",
       "      <td>0.011691</td>\n",
       "      <td>0.007428</td>\n",
       "      <td>-0.001090</td>\n",
       "      <td>-0.001090</td>\n",
       "      <td>0.003175</td>\n",
       "      <td>0.003175</td>\n",
       "      <td>0.020837</td>\n",
       "      <td>-0.004465</td>\n",
       "      <td>NaN</td>\n",
       "      <td>-0.006456</td>\n",
       "      <td>1.000000</td>\n",
       "      <td>0.010496</td>\n",
       "    </tr>\n",
       "    <tr>\n",
       "      <th>DISTANCE</th>\n",
       "      <td>-0.020558</td>\n",
       "      <td>0.019302</td>\n",
       "      <td>-0.127043</td>\n",
       "      <td>-0.347685</td>\n",
       "      <td>0.089662</td>\n",
       "      <td>0.089662</td>\n",
       "      <td>0.089691</td>\n",
       "      <td>0.089691</td>\n",
       "      <td>0.012579</td>\n",
       "      <td>0.012479</td>\n",
       "      <td>0.006920</td>\n",
       "      <td>-0.040557</td>\n",
       "      <td>0.010496</td>\n",
       "      <td>1.000000</td>\n",
       "    </tr>\n",
       "  </tbody>\n",
       "</table>\n",
       "</div>"
      ],
      "text/plain": [
       "                       DAY_OF_MONTH  DAY_OF_WEEK  OP_CARRIER_AIRLINE_ID  \\\n",
       "DAY_OF_MONTH               1.000000    -0.042553              -0.001265   \n",
       "DAY_OF_WEEK               -0.042553     1.000000               0.007998   \n",
       "OP_CARRIER_AIRLINE_ID     -0.001265     0.007998               1.000000   \n",
       "OP_CARRIER_FL_NUM         -0.015823     0.059044               0.437421   \n",
       "ORIGIN_AIRPORT_ID         -0.004971     0.005538              -0.047495   \n",
       "ORIGIN_AIRPORT_SEQ_ID     -0.004971     0.005538              -0.047495   \n",
       "DEST_AIRPORT_ID           -0.004963     0.005226              -0.047675   \n",
       "DEST_AIRPORT_SEQ_ID       -0.004963     0.005226              -0.047675   \n",
       "DEP_DEL15                 -0.013177     0.022601               0.035887   \n",
       "ARR_TIME                   0.006048     0.001044              -0.015241   \n",
       "ARR_DEL15                 -0.005327     0.024707               0.070229   \n",
       "CANCELLED                  0.063046     0.008820               0.017882   \n",
       "DIVERTED                   0.000522     0.001541               0.011691   \n",
       "DISTANCE                  -0.020558     0.019302              -0.127043   \n",
       "\n",
       "                       OP_CARRIER_FL_NUM  ORIGIN_AIRPORT_ID  \\\n",
       "DAY_OF_MONTH                   -0.015823          -0.004971   \n",
       "DAY_OF_WEEK                     0.059044           0.005538   \n",
       "OP_CARRIER_AIRLINE_ID           0.437421          -0.047495   \n",
       "OP_CARRIER_FL_NUM               1.000000          -0.054657   \n",
       "ORIGIN_AIRPORT_ID              -0.054657           1.000000   \n",
       "ORIGIN_AIRPORT_SEQ_ID          -0.054657           1.000000   \n",
       "DEST_AIRPORT_ID                -0.059944           0.017462   \n",
       "DEST_AIRPORT_SEQ_ID            -0.059945           0.017463   \n",
       "DEP_DEL15                       0.024047           0.002847   \n",
       "ARR_TIME                        0.007673          -0.004194   \n",
       "ARR_DEL15                       0.033355           0.007959   \n",
       "CANCELLED                       0.034782           0.011872   \n",
       "DIVERTED                        0.007428          -0.001090   \n",
       "DISTANCE                       -0.347685           0.089662   \n",
       "\n",
       "                       ORIGIN_AIRPORT_SEQ_ID  DEST_AIRPORT_ID  \\\n",
       "DAY_OF_MONTH                       -0.004971        -0.004963   \n",
       "DAY_OF_WEEK                         0.005538         0.005226   \n",
       "OP_CARRIER_AIRLINE_ID              -0.047495        -0.047675   \n",
       "OP_CARRIER_FL_NUM                  -0.054657        -0.059944   \n",
       "ORIGIN_AIRPORT_ID                   1.000000         0.017462   \n",
       "ORIGIN_AIRPORT_SEQ_ID               1.000000         0.017463   \n",
       "DEST_AIRPORT_ID                     0.017463         1.000000   \n",
       "DEST_AIRPORT_SEQ_ID                 0.017463         1.000000   \n",
       "DEP_DEL15                           0.002847         0.009664   \n",
       "ARR_TIME                           -0.004194         0.023973   \n",
       "ARR_DEL15                           0.007959         0.010728   \n",
       "CANCELLED                           0.011872         0.011055   \n",
       "DIVERTED                           -0.001090         0.003175   \n",
       "DISTANCE                            0.089662         0.089691   \n",
       "\n",
       "                       DEST_AIRPORT_SEQ_ID  DEP_DEL15  ARR_TIME  ARR_DEL15  \\\n",
       "DAY_OF_MONTH                     -0.004963  -0.013177  0.006048  -0.005327   \n",
       "DAY_OF_WEEK                       0.005226   0.022601  0.001044   0.024707   \n",
       "OP_CARRIER_AIRLINE_ID            -0.047675   0.035887 -0.015241   0.070229   \n",
       "OP_CARRIER_FL_NUM                -0.059945   0.024047  0.007673   0.033355   \n",
       "ORIGIN_AIRPORT_ID                 0.017463   0.002847 -0.004194   0.007959   \n",
       "ORIGIN_AIRPORT_SEQ_ID             0.017463   0.002847 -0.004194   0.007959   \n",
       "DEST_AIRPORT_ID                   1.000000   0.009664  0.023973   0.010728   \n",
       "DEST_AIRPORT_SEQ_ID               1.000000   0.009664  0.023973   0.010728   \n",
       "DEP_DEL15                         0.009664   1.000000  0.080924   0.716551   \n",
       "ARR_TIME                          0.023973   0.080924  1.000000   0.055586   \n",
       "ARR_DEL15                         0.010728   0.716551  0.055586   1.000000   \n",
       "CANCELLED                         0.011055   0.019339       NaN        NaN   \n",
       "DIVERTED                          0.003175   0.020837 -0.004465        NaN   \n",
       "DISTANCE                          0.089691   0.012579  0.012479   0.006920   \n",
       "\n",
       "                       CANCELLED  DIVERTED  DISTANCE  \n",
       "DAY_OF_MONTH            0.063046  0.000522 -0.020558  \n",
       "DAY_OF_WEEK             0.008820  0.001541  0.019302  \n",
       "OP_CARRIER_AIRLINE_ID   0.017882  0.011691 -0.127043  \n",
       "OP_CARRIER_FL_NUM       0.034782  0.007428 -0.347685  \n",
       "ORIGIN_AIRPORT_ID       0.011872 -0.001090  0.089662  \n",
       "ORIGIN_AIRPORT_SEQ_ID   0.011872 -0.001090  0.089662  \n",
       "DEST_AIRPORT_ID         0.011055  0.003175  0.089691  \n",
       "DEST_AIRPORT_SEQ_ID     0.011055  0.003175  0.089691  \n",
       "DEP_DEL15               0.019339  0.020837  0.012579  \n",
       "ARR_TIME                     NaN -0.004465  0.012479  \n",
       "ARR_DEL15                    NaN       NaN  0.006920  \n",
       "CANCELLED               1.000000 -0.006456 -0.040557  \n",
       "DIVERTED               -0.006456  1.000000  0.010496  \n",
       "DISTANCE               -0.040557  0.010496  1.000000  "
      ]
     },
     "execution_count": 12,
     "metadata": {},
     "output_type": "execute_result"
    }
   ],
   "source": [
    "corr_matrix = data.corr(method ='pearson') #Test for correlation of features\n",
    "corr_matrix"
   ]
  },
  {
   "cell_type": "code",
   "execution_count": 13,
   "metadata": {},
   "outputs": [
    {
     "data": {
      "image/png": "[encoded data removed]",
      "text/plain": [
       "<Figure size 432x288 with 2 Axes>"
      ]
     },
     "metadata": {
      "needs_background": "light"
     },
     "output_type": "display_data"
    }
   ],
   "source": [
    "sn.heatmap(corr_matrix, annot=True)\n",
    "plt.show()"
   ]
  },
  {
   "cell_type": "code",
   "execution_count": 14,
   "metadata": {},
   "outputs": [],
   "source": [
    "# As we can see by the white squares (and \"1\" value in the above dataframe) there are some features that are fully correllated.\n",
    "data.drop(['ORIGIN_AIRPORT_SEQ_ID', 'DEST_AIRPORT_SEQ_ID'], axis=1, inplace=True)"
   ]
  },
  {
   "cell_type": "markdown",
   "metadata": {},
   "source": [
    "#### TEST FOR MISSING VALUES IN DATASET"
   ]
  },
  {
   "cell_type": "code",
   "execution_count": 15,
   "metadata": {},
   "outputs": [
    {
     "name": "stdout",
     "output_type": "stream",
     "text": [
      "MISSING VALUES IN DATASET:\n",
      "DEP_DEL15: 23054 - 1.94% of dataset\n",
      "ARR_TIME: 24136 - 2.03% of dataset\n",
      "ARR_DEL15: 26100 - 2.19% of dataset\n"
     ]
    }
   ],
   "source": [
    "print('MISSING VALUES IN DATASET:')\n",
    "for column in data.columns.values:\n",
    "    nan_count = data[column].isnull().sum()\n",
    "    if nan_count != 0:\n",
    "        print(f'{column}: {nan_count} - {(nan_count/data.shape[0])*100:.2f}% of dataset')"
   ]
  },
  {
   "cell_type": "code",
   "execution_count": 16,
   "metadata": {},
   "outputs": [],
   "source": [
    "#As there are so few missing values we can remove them without any problem.\n",
    "data_cleaned = data.dropna()"
   ]
  },
  {
   "cell_type": "code",
   "execution_count": null,
   "metadata": {},
   "outputs": [],
   "source": []
  },
  {
   "cell_type": "code",
   "execution_count": 17,
   "metadata": {},
   "outputs": [
    {
     "data": {
      "text/html": [
       "<div>\n",
       "<style scoped>\n",
       "    .dataframe tbody tr th:only-of-type {\n",
       "        vertical-align: middle;\n",
       "    }\n",
       "\n",
       "    .dataframe tbody tr th {\n",
       "        vertical-align: top;\n",
       "    }\n",
       "\n",
       "    .dataframe thead th {\n",
       "        text-align: right;\n",
       "    }\n",
       "</style>\n",
       "<table border=\"1\" class=\"dataframe\">\n",
       "  <thead>\n",
       "    <tr style=\"text-align: right;\">\n",
       "      <th></th>\n",
       "      <th>DAY_OF_MONTH</th>\n",
       "      <th>DAY_OF_WEEK</th>\n",
       "      <th>OP_CARRIER_AIRLINE_ID</th>\n",
       "      <th>OP_CARRIER</th>\n",
       "      <th>OP_CARRIER_FL_NUM</th>\n",
       "      <th>ORIGIN_AIRPORT_ID</th>\n",
       "      <th>ORIGIN</th>\n",
       "      <th>DEST_AIRPORT_ID</th>\n",
       "      <th>DEST</th>\n",
       "      <th>DEP_DEL15</th>\n",
       "      <th>DEP_TIME_BLK</th>\n",
       "      <th>ARR_TIME</th>\n",
       "      <th>ARR_DEL15</th>\n",
       "      <th>CANCELLED</th>\n",
       "      <th>DIVERTED</th>\n",
       "      <th>DISTANCE</th>\n",
       "    </tr>\n",
       "  </thead>\n",
       "  <tbody>\n",
       "    <tr>\n",
       "      <th>0</th>\n",
       "      <td>1</td>\n",
       "      <td>2</td>\n",
       "      <td>20363</td>\n",
       "      <td>9E</td>\n",
       "      <td>3280</td>\n",
       "      <td>11953</td>\n",
       "      <td>GNV</td>\n",
       "      <td>10397</td>\n",
       "      <td>ATL</td>\n",
       "      <td>0.0</td>\n",
       "      <td>0600-0659</td>\n",
       "      <td>722.0</td>\n",
       "      <td>0.0</td>\n",
       "      <td>0.0</td>\n",
       "      <td>0.0</td>\n",
       "      <td>300.0</td>\n",
       "    </tr>\n",
       "    <tr>\n",
       "      <th>1</th>\n",
       "      <td>1</td>\n",
       "      <td>2</td>\n",
       "      <td>20363</td>\n",
       "      <td>9E</td>\n",
       "      <td>3281</td>\n",
       "      <td>13487</td>\n",
       "      <td>MSP</td>\n",
       "      <td>11193</td>\n",
       "      <td>CVG</td>\n",
       "      <td>0.0</td>\n",
       "      <td>1400-1459</td>\n",
       "      <td>1633.0</td>\n",
       "      <td>0.0</td>\n",
       "      <td>0.0</td>\n",
       "      <td>0.0</td>\n",
       "      <td>596.0</td>\n",
       "    </tr>\n",
       "    <tr>\n",
       "      <th>2</th>\n",
       "      <td>1</td>\n",
       "      <td>2</td>\n",
       "      <td>20363</td>\n",
       "      <td>9E</td>\n",
       "      <td>3282</td>\n",
       "      <td>11433</td>\n",
       "      <td>DTW</td>\n",
       "      <td>11193</td>\n",
       "      <td>CVG</td>\n",
       "      <td>0.0</td>\n",
       "      <td>1200-1259</td>\n",
       "      <td>1329.0</td>\n",
       "      <td>0.0</td>\n",
       "      <td>0.0</td>\n",
       "      <td>0.0</td>\n",
       "      <td>229.0</td>\n",
       "    </tr>\n",
       "    <tr>\n",
       "      <th>3</th>\n",
       "      <td>1</td>\n",
       "      <td>2</td>\n",
       "      <td>20363</td>\n",
       "      <td>9E</td>\n",
       "      <td>3283</td>\n",
       "      <td>15249</td>\n",
       "      <td>TLH</td>\n",
       "      <td>10397</td>\n",
       "      <td>ATL</td>\n",
       "      <td>0.0</td>\n",
       "      <td>1500-1559</td>\n",
       "      <td>1625.0</td>\n",
       "      <td>0.0</td>\n",
       "      <td>0.0</td>\n",
       "      <td>0.0</td>\n",
       "      <td>223.0</td>\n",
       "    </tr>\n",
       "    <tr>\n",
       "      <th>4</th>\n",
       "      <td>1</td>\n",
       "      <td>2</td>\n",
       "      <td>20363</td>\n",
       "      <td>9E</td>\n",
       "      <td>3284</td>\n",
       "      <td>10397</td>\n",
       "      <td>ATL</td>\n",
       "      <td>11778</td>\n",
       "      <td>FSM</td>\n",
       "      <td>0.0</td>\n",
       "      <td>1900-1959</td>\n",
       "      <td>1940.0</td>\n",
       "      <td>0.0</td>\n",
       "      <td>0.0</td>\n",
       "      <td>0.0</td>\n",
       "      <td>579.0</td>\n",
       "    </tr>\n",
       "  </tbody>\n",
       "</table>\n",
       "</div>"
      ],
      "text/plain": [
       "   DAY_OF_MONTH  DAY_OF_WEEK  OP_CARRIER_AIRLINE_ID OP_CARRIER  \\\n",
       "0             1            2                  20363         9E   \n",
       "1             1            2                  20363         9E   \n",
       "2             1            2                  20363         9E   \n",
       "3             1            2                  20363         9E   \n",
       "4             1            2                  20363         9E   \n",
       "\n",
       "   OP_CARRIER_FL_NUM  ORIGIN_AIRPORT_ID ORIGIN  DEST_AIRPORT_ID DEST  \\\n",
       "0               3280              11953    GNV            10397  ATL   \n",
       "1               3281              13487    MSP            11193  CVG   \n",
       "2               3282              11433    DTW            11193  CVG   \n",
       "3               3283              15249    TLH            10397  ATL   \n",
       "4               3284              10397    ATL            11778  FSM   \n",
       "\n",
       "   DEP_DEL15 DEP_TIME_BLK  ARR_TIME  ARR_DEL15  CANCELLED  DIVERTED  DISTANCE  \n",
       "0        0.0    0600-0659     722.0        0.0        0.0       0.0     300.0  \n",
       "1        0.0    1400-1459    1633.0        0.0        0.0       0.0     596.0  \n",
       "2        0.0    1200-1259    1329.0        0.0        0.0       0.0     229.0  \n",
       "3        0.0    1500-1559    1625.0        0.0        0.0       0.0     223.0  \n",
       "4        0.0    1900-1959    1940.0        0.0        0.0       0.0     579.0  "
      ]
     },
     "execution_count": 17,
     "metadata": {},
     "output_type": "execute_result"
    }
   ],
   "source": [
    "data_cleaned.head()"
   ]
  },
  {
   "cell_type": "code",
   "execution_count": 18,
   "metadata": {},
   "outputs": [
    {
     "name": "stderr",
     "output_type": "stream",
     "text": [
      "C:\\Users\\Michael\\Anaconda3\\envs\\keras1\\lib\\site-packages\\ipykernel_launcher.py:2: SettingWithCopyWarning: \n",
      "A value is trying to be set on a copy of a slice from a DataFrame.\n",
      "Try using .loc[row_indexer,col_indexer] = value instead\n",
      "\n",
      "See the caveats in the documentation: https://pandas.pydata.org/pandas-docs/stable/user_guide/indexing.html#returning-a-view-versus-a-copy\n",
      "  \n"
     ]
    }
   ],
   "source": [
    "#The three columns 'ARR_DEL15', 'CANCELLED' and 'DIVERTED' all relate to a plane being delayed we can concatenate them into a single column \"y\".\n",
    "data2 = data_cleaned.loc[:,'ARR_DEL15':'DIVERTED']\n",
    "data_cleaned['y'] = np.where(np.sum(data2.T)!=0, 1, 0)\n",
    "    \n",
    "data3 = data_cleaned.drop(['ARR_DEL15', 'CANCELLED', 'DIVERTED'], axis=1)"
   ]
  },
  {
   "cell_type": "code",
   "execution_count": 19,
   "metadata": {},
   "outputs": [],
   "source": [
    "#According to the data provider the weekdays in this dataset starts with monday (Monday = 1). If we calculate delays related to weekdays we see that\n",
    "# Thursday is the day with the higest probability of delays occuring, with a 18% risk.\n",
    "week = data3[['DAY_OF_WEEK','y']].groupby('DAY_OF_WEEK').sum().sort_values(by='y',ascending=False)\n",
    "week['PERCENTUAL'] = week['y']/(week['y'].sum())*100"
   ]
  },
  {
   "cell_type": "code",
   "execution_count": 20,
   "metadata": {},
   "outputs": [
    {
     "name": "stdout",
     "output_type": "stream",
     "text": [
      "                 y  PERCENTUAL\n",
      "DAY_OF_WEEK                   \n",
      "4            34414   18.353448\n",
      "5            30724   16.385522\n",
      "3            27485   14.658119\n",
      "1            25291   13.488030\n",
      "7            23988   12.793122\n",
      "6            23084   12.311007\n",
      "2            22521   12.010752\n"
     ]
    }
   ],
   "source": [
    "print(week)"
   ]
  },
  {
   "cell_type": "code",
   "execution_count": null,
   "metadata": {},
   "outputs": [],
   "source": []
  },
  {
   "cell_type": "code",
   "execution_count": null,
   "metadata": {},
   "outputs": [],
   "source": []
  },
  {
   "cell_type": "code",
   "execution_count": 21,
   "metadata": {},
   "outputs": [],
   "source": [
    "weekdays = {1: 'Monday', 2: 'Tuesday', 3: 'Wednesday', 4: 'Thursday', 5: 'Friday', 6: 'Saturday', 7: 'Sunday'}\n",
    "labels = []\n",
    "for day in week.index.values.astype(int):\n",
    "    labels.append(weekdays[day])"
   ]
  },
  {
   "cell_type": "code",
   "execution_count": 22,
   "metadata": {},
   "outputs": [
    {
     "data": {
      "image/png": "[encoded data removed]",
      "text/plain": [
       "<Figure size 360x360 with 1 Axes>"
      ]
     },
     "metadata": {},
     "output_type": "display_data"
    }
   ],
   "source": [
    "\n",
    "explode = (0.1, 0, 0, 0, 0, 0, 0)\n",
    "\n",
    "fig1, ax1 = plt.subplots(figsize=(5,5))\n",
    "ax1.set_title('DELAYS BASED ON WEEKDAY')\n",
    "ax1.pie(week['PERCENTUAL'], explode=explode, labels=labels, autopct='%1.1f%%',\n",
    "        shadow=True, startangle=90)\n",
    "ax1.axis('equal')  # Equal aspect ratio ensures that pie is drawn as a circle.\n",
    "\n",
    "plt.show()"
   ]
  },
  {
   "cell_type": "code",
   "execution_count": 23,
   "metadata": {},
   "outputs": [],
   "source": [
    "def statistics(df, column_label):\n",
    "    new_df = df[[column_label,'y']].groupby(column_label).sum()\n",
    "    new_df['data'] = df[column_label].value_counts().sort_index()\n",
    "    new_df['PERCENTUAL'] = new_df['y']/new_df['data']*100\n",
    "    new_df['MEAN'] = sum(new_df['y'])/sum(new_df['data'])*100\n",
    "    new_df.reset_index(inplace=True)\n",
    "    return new_df"
   ]
  },
  {
   "cell_type": "code",
   "execution_count": 24,
   "metadata": {},
   "outputs": [
    {
     "data": {
      "image/png": "[encoded data removed]",
      "text/plain": [
       "<Figure size 720x360 with 1 Axes>"
      ]
     },
     "metadata": {
      "needs_background": "light"
     },
     "output_type": "display_data"
    }
   ],
   "source": [
    "df = statistics(data3, 'DAY_OF_MONTH')\n",
    "\n",
    "fig2, ax2 = plt.subplots(figsize=(10,5))\n",
    "ax2.set_title('DELAYS IN PERCENT IN RELATION TO TOTAL NUMBER OF FLIGHTS')\n",
    "ax2.bar(df.index.values.astype(int), df['PERCENTUAL'], label='DAY OF MONTH')\n",
    "ax2.plot(df.index.values.astype(int), df['MEAN'], color='r', linestyle='--', label='MEAN')\n",
    "ax2.set_xlabel('Day of month', fontsize = 14)\n",
    "ax2.set_ylabel('Flight delays in %', fontsize = 14)\n",
    "plt.legend()\n",
    "plt.show()"
   ]
  },
  {
   "cell_type": "markdown",
   "metadata": {},
   "source": [
    "__When we look at delays in relation to day of month, there isn't a very clear trend. But there is quite a difference between the highest and lowest. But as we only have data from two months we can't conclude much__"
   ]
  },
  {
   "cell_type": "code",
   "execution_count": 25,
   "metadata": {},
   "outputs": [
    {
     "name": "stdout",
     "output_type": "stream",
     "text": [
      "    TOTAL_FLIGHTS  PERCENTUAL\n",
      "9           14357   22.748485\n",
      "12          48994   22.090460\n",
      "13          48016   21.042986\n",
      "8           22576   20.477498\n",
      "4           40987   19.271964\n",
      "15          21802   19.067058\n",
      "6          131271   18.828226\n",
      "11          46368   18.635697\n",
      "10          35302   18.208600\n",
      "16          53395   17.402378\n",
      "3          150826   16.634400\n",
      "5           94145   16.348186\n",
      "7           42776   15.260894\n",
      "14          32342   14.584750\n",
      "0          214943   12.297214\n",
      "2          153331   11.649308\n",
      "1           13800   11.152174\n"
     ]
    },
    {
     "data": {
      "image/png": "[encoded data removed]",
      "text/plain": [
       "<Figure size 720x360 with 1 Axes>"
      ]
     },
     "metadata": {
      "needs_background": "light"
     },
     "output_type": "display_data"
    }
   ],
   "source": [
    "df = statistics(data3, 'OP_CARRIER_AIRLINE_ID')\n",
    "\n",
    "df.rename(columns={\"data\": \"TOTAL_FLIGHTS\"}, inplace=True)\n",
    "print(df[['TOTAL_FLIGHTS', 'PERCENTUAL']].sort_values(by='PERCENTUAL', ascending=False))\n",
    "fig1, ax1 = plt.subplots(figsize=(10,5))\n",
    "ax1.set_title('DELAYS BASED ON CARRIERS IN PERCENT IN RELATION TO TOTAL NUMBER OF FLIGHTS')\n",
    "plt.bar(np.arange(len(df)), df['PERCENTUAL'], label='CARRIER ID')\n",
    "ax1.plot(df.index.values.astype(int), df['MEAN'], color='r', linestyle='--', label='MEAN')\n",
    "ax1.set_xlabel('Carrier ID', fontsize = 14)\n",
    "ax1.set_ylabel('Flight delays by Carrier in %', fontsize = 14)\n",
    "plt.xticks(np.arange(len(df)), rotation=45)\n",
    "ax1.set_xticklabels(df['OP_CARRIER_AIRLINE_ID'])\n",
    "plt.legend()\n",
    "plt.show()"
   ]
  },
  {
   "cell_type": "markdown",
   "metadata": {},
   "source": [
    "__When we look at delays in relation to carrier (company) thers quite a difference between the higeste at almost 23% delays versus the lowest with just about 11% delays.\n",
    "Even though it's only based on two months of data, each carrier have a lot of flights which makes these calculations more reliable.__"
   ]
  },
  {
   "cell_type": "code",
   "execution_count": 26,
   "metadata": {},
   "outputs": [
    {
     "name": "stdout",
     "output_type": "stream",
     "text": [
      "    ORIGIN  TOTAL_FLIGHTS  PERCENTUAL\n",
      "306    SHR             37   48.648649\n",
      "233    OGD             17   41.176471\n",
      "268    PSM             51   37.254902\n",
      "143    HGR             22   36.363636\n",
      "18     ASE           1632   35.906863\n",
      "..     ...            ...         ...\n",
      "168    ITO           1013    6.021718\n",
      "259    PIR             56    5.357143\n",
      "50     BTM            116    5.172414\n",
      "199    LWS            128    3.125000\n",
      "78     CPR            173    2.890173\n",
      "\n",
      "[353 rows x 3 columns]\n"
     ]
    },
    {
     "data": {
      "image/png": "[encoded data removed]",
      "text/plain": [
       "<Figure size 720x360 with 1 Axes>"
      ]
     },
     "metadata": {
      "needs_background": "light"
     },
     "output_type": "display_data"
    }
   ],
   "source": [
    "df = statistics(data3, 'ORIGIN')\n",
    "\n",
    "df.rename(columns={\"data\": \"TOTAL_FLIGHTS\"}, inplace=True)\n",
    "print(df[['ORIGIN', 'TOTAL_FLIGHTS', 'PERCENTUAL']].sort_values(by='PERCENTUAL', ascending=False))\n",
    "fig1, ax1 = plt.subplots(figsize=(10,5))\n",
    "ax1.set_title('DELAYS BASED ON ORIGIN IN PERCENT IN RELATION TO TOTAL NUMBER OF FLIGHTS')\n",
    "plt.scatter(df['TOTAL_FLIGHTS'], df['PERCENTUAL'], label='ORIGIN')\n",
    "#ax1.plot(df.index.values.astype(int), df['MEAN'], color='r', linestyle='--', label='MEAN')\n",
    "ax1.set_xlabel('Airport size (Total number of flights operated)', fontsize = 14)\n",
    "ax1.set_ylabel('Flight delays by origin airport in %', fontsize = 14)\n",
    "#plt.xticks(np.arange(len(df)), rotation=45)\n",
    "#ax1.set_xticklabels(df['ORIGIN'])\n",
    "ax1.set_xscale('log')\n",
    "plt.legend()\n",
    "plt.show()"
   ]
  },
  {
   "cell_type": "markdown",
   "metadata": {},
   "source": [
    "__There is some information we can get from the plot above. The airports with fever flights have a tendency to have more delayed flights leaving.__"
   ]
  },
  {
   "cell_type": "code",
   "execution_count": 27,
   "metadata": {},
   "outputs": [
    {
     "name": "stdout",
     "output_type": "stream",
     "text": [
      "    DEST  TOTAL_FLIGHTS  PERCENTUAL\n",
      "216  MKG             99   35.353535\n",
      "233  OGD             17   35.294118\n",
      "18   ASE           1678   34.326579\n",
      "281  RIW             50   34.000000\n",
      "235  OGS             59   33.898305\n",
      "..   ...            ...         ...\n",
      "21   ATY             56    5.357143\n",
      "78   CPR            172    5.232558\n",
      "50   BTM            116    5.172414\n",
      "339  TWF            177    5.084746\n",
      "199  LWS            127    4.724409\n",
      "\n",
      "[353 rows x 3 columns]\n"
     ]
    },
    {
     "data": {
      "image/png": "[encoded data removed]",
      "text/plain": [
       "<Figure size 720x360 with 1 Axes>"
      ]
     },
     "metadata": {
      "needs_background": "light"
     },
     "output_type": "display_data"
    }
   ],
   "source": [
    "df = statistics(data3, 'DEST')\n",
    "\n",
    "df.rename(columns={\"data\": \"TOTAL_FLIGHTS\"}, inplace=True)\n",
    "print(df[['DEST', 'TOTAL_FLIGHTS', 'PERCENTUAL']].sort_values(by='PERCENTUAL', ascending=False))\n",
    "fig1, ax1 = plt.subplots(figsize=(10,5))\n",
    "ax1.set_title('DELAYS BASED ON DESTINATION IN PERCENT IN RELATION TO TOTAL NUMBER OF FLIGHTS')\n",
    "plt.scatter(df['TOTAL_FLIGHTS'], df['PERCENTUAL'], label='DESTINATION')\n",
    "ax1.set_xlabel('Airport size (Total number of flights operated)', fontsize = 14)\n",
    "ax1.set_ylabel('Flight delays by destination airport in %', fontsize = 14)\n",
    "ax1.set_xscale('log')\n",
    "plt.legend()\n",
    "plt.show()"
   ]
  },
  {
   "cell_type": "markdown",
   "metadata": {},
   "source": [
    "__Again, There is some information we can get from the plot above. The airports with fever flights have a tendency to have more delayed flights arriving, though the trend is less clear here than with the leaving flights.__"
   ]
  },
  {
   "cell_type": "code",
   "execution_count": 42,
   "metadata": {},
   "outputs": [],
   "source": [
    "#Split dataset in features and target\n",
    "def X_y(df):\n",
    "    X = df.iloc[:,:-1]\n",
    "    y = df.iloc[:,-1]\n",
    "    X_train, X_test, y_train, y_test = train_test_split(X, y, test_size=0.2, stratify=y)\n",
    "    return X_train, X_test, y_train, y_test"
   ]
  },
  {
   "cell_type": "code",
   "execution_count": 29,
   "metadata": {},
   "outputs": [
    {
     "data": {
      "text/plain": [
       "DAY_OF_MONTH               int64\n",
       "DAY_OF_WEEK                int64\n",
       "OP_CARRIER_AIRLINE_ID      int64\n",
       "OP_CARRIER                object\n",
       "OP_CARRIER_FL_NUM          int64\n",
       "ORIGIN_AIRPORT_ID          int64\n",
       "ORIGIN                    object\n",
       "DEST_AIRPORT_ID            int64\n",
       "DEST                      object\n",
       "DEP_DEL15                float64\n",
       "DEP_TIME_BLK              object\n",
       "ARR_TIME                 float64\n",
       "DISTANCE                 float64\n",
       "y                          int32\n",
       "dtype: object"
      ]
     },
     "execution_count": 29,
     "metadata": {},
     "output_type": "execute_result"
    }
   ],
   "source": [
    "data3.dtypes"
   ]
  },
  {
   "cell_type": "code",
   "execution_count": 37,
   "metadata": {},
   "outputs": [],
   "source": [
    "data4 = data3.copy()\n",
    "data4.iloc[:,2:10] = data3.iloc[:,2:10].astype('category')"
   ]
  },
  {
   "cell_type": "code",
   "execution_count": 38,
   "metadata": {},
   "outputs": [],
   "source": [
    "def transform(df):\n",
    "    all_cats = []\n",
    "    for column in df.iloc[:,2:10].columns:\n",
    "        all_cats.append(sorted(df[column].unique()))\n",
    "    \n",
    "    #We need to encode some of the features as categorical features in either ordinal or one-hot encoding.\n",
    "    #Get unique values for ordinal encoding\n",
    "    cat_columns = list(data.iloc[:,2:10].columns.values)\n",
    "    timeslots = sorted(data.DEP_TIME_BLK.unique().tolist()) #It is important to sort the values, otherwise it isn't ordinal and you will make it a lot harder for the model.\n",
    "    transformer = make_column_transformer((OrdinalEncoder(categories=[timeslots]), ['DEP_TIME_BLK']), (OneHotEncoder(categories=all_cats), cat_columns), (StandardScaler(), ['DAY_OF_MONTH', 'DAY_OF_WEEK', 'DISTANCE']), remainder='passthrough')\n",
    "    print('Tranform done!')\n",
    "    return transformer"
   ]
  },
  {
   "cell_type": "code",
   "execution_count": 45,
   "metadata": {},
   "outputs": [],
   "source": [
    "#Here we calculate metrics for the different algorithms and store the results in a dictionary for later comparison of the results\n",
    "metrics_dict = dict()\n",
    "\n",
    "def metrics(grid, X_test, y_test, label):\n",
    "    global metrics_dict\n",
    "    \n",
    "    y_test_scores = grid.predict(X_test)\n",
    "    lr_probs = grid.predict_proba(X_test)[:,1]\n",
    "    lr_auc = roc_auc_score(y_test, lr_probs)\n",
    "    lr_precision, lr_recall, _ = precision_recall_curve(y_test, lr_probs)\n",
    "    roc_auc = roc_auc_score(y_test, lr_probs)\n",
    "    \n",
    "    \n",
    "    print(f'BEST PARAMS ARE: {grid.best_params_}')\n",
    "    print(f'SCORE: {grid.score(X_test, y_test)}')\n",
    "    print(f'ROC AUC SCORE: {roc_auc_score(y_test, lr_probs):.2f}')\n",
    "    print(classification_report(y_test, y_test_scores))\n",
    "    \n",
    "    print(f'CONFUSION MATRIX: {confusion_matrix(y_test, y_test_scores)}')\n",
    "    \n",
    "    #CONFUSION MATRIX PLOT\n",
    "    plt.style.use('seaborn-white')\n",
    "    plot_confusion_matrix(grid, X_test, y_test)\n",
    "    \n",
    "    fig1, ax1 = plt.subplots()\n",
    "    fig2, ax2 = plt.subplots()\n",
    "    \n",
    "    \n",
    "    #ROC AUC CURVE\n",
    "    lr_fpr, lr_tpr, _ = roc_curve(y_test, lr_probs)\n",
    "    # plot the roc curve for the model\n",
    "    #ax1.set_facecolor('w')\n",
    "    ax1.plot(lr_fpr, lr_tpr, label=label, linewidth=2)\n",
    "    # axis labels\n",
    "    ax1.set_xlabel('False Positive Rate')\n",
    "    ax1.set_ylabel('True Positive Rate')\n",
    "    # show the legend\n",
    "\n",
    "    metrics_dict = {label: {'precision': lr_precision, 'recall': lr_recall, 'false_positives': lr_fpr, 'true_positives': lr_tpr}}\n",
    "    \n",
    "    #PRECISION RECALL PLOT\n",
    "    #ax2.set_facecolor('w')\n",
    "    ax2.plot(lr_recall, lr_precision, label='Logistic', linewidth=2)\n",
    "    # axis labels\n",
    "    ax2.set_xlabel('Recall')\n",
    "    ax2.set_ylabel('Precision')\n",
    "    # show the legend\n",
    "    plt.legend()\n",
    "    \n",
    "    # show the plot\n",
    "    plt.show()\n",
    "    return roc_auc, lr_precision, lr_recall"
   ]
  },
  {
   "cell_type": "markdown",
   "metadata": {},
   "source": [
    "#### Logistic Regression - transform, make pipeline and fit/score data"
   ]
  },
  {
   "cell_type": "code",
   "execution_count": 46,
   "metadata": {},
   "outputs": [
    {
     "name": "stdout",
     "output_type": "stream",
     "text": [
      "Tranform done!\n",
      "Fitting 5 folds for each of 9 candidates, totalling 45 fits\n"
     ]
    },
    {
     "name": "stderr",
     "output_type": "stream",
     "text": [
      "[Parallel(n_jobs=8)]: Using backend LokyBackend with 8 concurrent workers.\n",
      "[Parallel(n_jobs=8)]: Done  25 tasks      | elapsed: 15.7min\n",
      "[Parallel(n_jobs=8)]: Done  45 out of  45 | elapsed: 25.2min finished\n"
     ]
    },
    {
     "name": "stdout",
     "output_type": "stream",
     "text": [
      "BEST PARAMS ARE: {'logistic__C': 0.1, 'svd__n_components': 50}\n",
      "SCORE: 0.9238651430827258\n",
      "ROC AUC SCORE: 0.88\n",
      "              precision    recall  f1-score   support\n",
      "\n",
      "           0       0.95      0.96      0.95    195545\n",
      "           1       0.78      0.74      0.76     37502\n",
      "\n",
      "    accuracy                           0.92    233047\n",
      "   macro avg       0.86      0.85      0.86    233047\n",
      "weighted avg       0.92      0.92      0.92    233047\n",
      "\n",
      "CONFUSION MATRIX: [[187506   8039]\n",
      " [  9704  27798]]\n"
     ]
    },
    {
     "data": {
      "image/png": "[encoded data removed]",
      "text/plain": [
       "<Figure size 432x288 with 2 Axes>"
      ]
     },
     "metadata": {},
     "output_type": "display_data"
    },
    {
     "data": {
      "image/png": "[encoded data removed]",
      "text/plain": [
       "<Figure size 432x288 with 1 Axes>"
      ]
     },
     "metadata": {},
     "output_type": "display_data"
    },
    {
     "name": "stderr",
     "output_type": "stream",
     "text": [
      "C:\\Users\\Michael\\Anaconda3\\envs\\keras1\\lib\\site-packages\\IPython\\core\\pylabtools.py:132: UserWarning: Creating legend with loc=\"best\" can be slow with large amounts of data.\n",
      "  fig.canvas.print_figure(bytes_io, **kw)\n"
     ]
    },
    {
     "data": {
      "image/png": "[encoded data removed]",
      "text/plain": [
       "<Figure size 432x288 with 1 Axes>"
      ]
     },
     "metadata": {},
     "output_type": "display_data"
    }
   ],
   "source": [
    "transformer = transform(data4)\n",
    "X_train, X_test, y_train, y_test = X_y(data4)\n",
    "\n",
    "svd = TruncatedSVD()\n",
    "logistic = LogisticRegression(max_iter=10000, tol=0.1)\n",
    "pipe = Pipeline(steps=[('transformer', transformer), ('svd', svd), ('logistic', logistic)])\n",
    "param_grid = {\n",
    "    'svd__n_components': (50, 300, 50),\n",
    "    'logistic__C': [.1, 1, .01],\n",
    "}\n",
    "\n",
    "grid = GridSearchCV(pipe, param_grid, cv=5, verbose=2, n_jobs=8)\n",
    "grid.fit(X_train, y_train)\n",
    "\n",
    "log_roc_auc, log_precision, log_recall = metrics(grid, X_test, y_test, 'LOGISTIC')"
   ]
  },
  {
   "cell_type": "markdown",
   "metadata": {},
   "source": [
    "#### XGBoost - transform, make pipeline and fit/score data"
   ]
  },
  {
   "cell_type": "code",
   "execution_count": 48,
   "metadata": {},
   "outputs": [
    {
     "name": "stdout",
     "output_type": "stream",
     "text": [
      "Tranform done!\n",
      "Fitting 5 folds for each of 3 candidates, totalling 15 fits\n"
     ]
    },
    {
     "name": "stderr",
     "output_type": "stream",
     "text": [
      "[Parallel(n_jobs=8)]: Using backend LokyBackend with 8 concurrent workers.\n",
      "[Parallel(n_jobs=8)]: Done   8 out of  15 | elapsed: 25.6min remaining: 22.4min\n",
      "[Parallel(n_jobs=8)]: Done  15 out of  15 | elapsed: 48.2min finished\n"
     ]
    },
    {
     "name": "stdout",
     "output_type": "stream",
     "text": [
      "BEST PARAMS ARE: {'svd__n_components': 150, 'xgb__colsample_bytree': 0.9, 'xgb__gamma': 0, 'xgb__learning_rate': 0.1, 'xgb__max_depth': 12, 'xgb__n_estimators': 400, 'xgb__reg_alpha': 0.1, 'xgb__subsample': 0.9}\n",
      "SCORE: 0.9442472977553884\n",
      "ROC AUC SCORE: 0.97\n",
      "              precision    recall  f1-score   support\n",
      "\n",
      "           0       0.96      0.98      0.97    195545\n",
      "           1       0.87      0.77      0.82     37502\n",
      "\n",
      "    accuracy                           0.94    233047\n",
      "   macro avg       0.91      0.87      0.89    233047\n",
      "weighted avg       0.94      0.94      0.94    233047\n",
      "\n",
      "CONFUSION MATRIX: [[191079   4466]\n",
      " [  8527  28975]]\n"
     ]
    },
    {
     "data": {
      "image/png": "[encoded data removed]",
      "text/plain": [
       "<Figure size 432x288 with 2 Axes>"
      ]
     },
     "metadata": {},
     "output_type": "display_data"
    },
    {
     "data": {
      "image/png": "[encoded data removed]",
      "text/plain": [
       "<Figure size 432x288 with 1 Axes>"
      ]
     },
     "metadata": {},
     "output_type": "display_data"
    },
    {
     "name": "stderr",
     "output_type": "stream",
     "text": [
      "C:\\Users\\Michael\\Anaconda3\\envs\\keras1\\lib\\site-packages\\IPython\\core\\pylabtools.py:132: UserWarning: Creating legend with loc=\"best\" can be slow with large amounts of data.\n",
      "  fig.canvas.print_figure(bytes_io, **kw)\n"
     ]
    },
    {
     "data": {
      "image/png": "[encoded data removed]",
      "text/plain": [
       "<Figure size 432x288 with 1 Axes>"
      ]
     },
     "metadata": {},
     "output_type": "display_data"
    }
   ],
   "source": [
    "transformer = transform(data4)\n",
    "X_train, X_test, y_train, y_test = X_y(data4)\n",
    "\n",
    "svd = TruncatedSVD()\n",
    "xgb = xgb.XGBClassifier(random_state=42, tree_method='gpu_hist', gpu_id=0, predictor = 'gpu_predictor', sampling_method='gradient_based')\n",
    "pipe = Pipeline(steps=[('transformer', transformer), ('svd', svd), ('xgb', xgb)])\n",
    "param_grid = {\n",
    "    'svd__n_components': [50,100,150],\n",
    "    'xgb__learning_rate': [0.1],\n",
    "    'xgb__n_estimators': [400],#range(100,500,100),\n",
    "    'xgb__max_depth': [12],#range(6,16,2),\n",
    "    'xgb__gamma': [0],\n",
    "    'xgb__subsample': [0.9],\n",
    "    'xgb__colsample_bytree': [0.9],\n",
    "    'xgb__reg_alpha': [0.1]\n",
    "}\n",
    "\n",
    "grid = GridSearchCV(pipe, param_grid, cv=5, verbose=2, n_jobs=8)\n",
    "grid.fit(X_train, y_train)\n",
    "\n",
    "xgb_roc_auc, xgb_precision, xgb_recall = metrics(grid, X_test, y_test, 'xgb')"
   ]
  },
  {
   "cell_type": "code",
   "execution_count": 52,
   "metadata": {},
   "outputs": [
    {
     "name": "stdout",
     "output_type": "stream",
     "text": [
      "Tranform done!\n",
      "Fitting 5 folds for each of 192 candidates, totalling 960 fits\n"
     ]
    },
    {
     "name": "stderr",
     "output_type": "stream",
     "text": [
      "[Parallel(n_jobs=8)]: Using backend LokyBackend with 8 concurrent workers.\n",
      "[Parallel(n_jobs=8)]: Done  25 tasks      | elapsed: 42.4min\n",
      "[Parallel(n_jobs=8)]: Done 146 tasks      | elapsed: 387.9min\n",
      "[Parallel(n_jobs=8)]: Done 349 tasks      | elapsed: 1505.8min\n",
      "[Parallel(n_jobs=8)]: Done 632 tasks      | elapsed: 2992.5min\n",
      "[Parallel(n_jobs=8)]: Done 960 out of 960 | elapsed: 5499.5min finished\n"
     ]
    },
    {
     "name": "stdout",
     "output_type": "stream",
     "text": [
      "BEST PARAMS ARE: {'rfc__criterion': 'entropy', 'rfc__max_depth': 20, 'rfc__min_samples_split': 2, 'rfc__n_estimators': 300, 'svd__n_components': 50}\n",
      "SCORE: 0.928962827240857\n",
      "ROC AUC SCORE: 0.95\n",
      "              precision    recall  f1-score   support\n",
      "\n",
      "           0       0.95      0.97      0.96    195545\n",
      "           1       0.81      0.74      0.77     37502\n",
      "\n",
      "    accuracy                           0.93    233047\n",
      "   macro avg       0.88      0.85      0.86    233047\n",
      "weighted avg       0.93      0.93      0.93    233047\n",
      "\n",
      "CONFUSION MATRIX: [[188916   6629]\n",
      " [  9926  27576]]\n"
     ]
    },
    {
     "data": {
      "image/png": "[encoded data removed]",
      "text/plain": [
       "<Figure size 432x288 with 2 Axes>"
      ]
     },
     "metadata": {},
     "output_type": "display_data"
    },
    {
     "data": {
      "image/png": "[encoded data removed]",
      "text/plain": [
       "<Figure size 432x288 with 1 Axes>"
      ]
     },
     "metadata": {},
     "output_type": "display_data"
    },
    {
     "name": "stderr",
     "output_type": "stream",
     "text": [
      "C:\\Users\\Michael\\Anaconda3\\envs\\keras1\\lib\\site-packages\\IPython\\core\\pylabtools.py:132: UserWarning: Creating legend with loc=\"best\" can be slow with large amounts of data.\n",
      "  fig.canvas.print_figure(bytes_io, **kw)\n"
     ]
    },
    {
     "data": {
      "image/png": "[encoded data removed]",
      "text/plain": [
       "<Figure size 432x288 with 1 Axes>"
      ]
     },
     "metadata": {},
     "output_type": "display_data"
    }
   ],
   "source": [
    "transformer = transform(data4)\n",
    "X_train, X_test, y_train, y_test = X_y(data4)\n",
    "\n",
    "svd = TruncatedSVD()\n",
    "rfc = RandomForestClassifier(random_state=42, n_jobs=8)# , tree_method='gpu_hist', gpu_id=0, predictor = 'gpu_predictor', sampling_method='gradient_based'\n",
    "pipe = Pipeline(steps=[('transformer', transformer), ('svd', svd), ('rfc', rfc)])\n",
    "param_grid = {\n",
    "    'svd__n_components': [50,100,150],\n",
    "    'rfc__n_estimators': range(100,500,100),\n",
    "    'rfc__max_depth': range(5,25,5),\n",
    "    'rfc__criterion': ['gini','entropy'],\n",
    "    'rfc__min_samples_split': [2,5],\n",
    "}\n",
    "\n",
    "grid = GridSearchCV(pipe, param_grid, cv=5, verbose=2, n_jobs=8)\n",
    "grid.fit(X_train, y_train)\n",
    "\n",
    "rfc_roc_auc, rfc_precision, rfc_recall = metrics(grid, X_test, y_test, 'rfc')"
   ]
  },
  {
   "cell_type": "code",
   "execution_count": null,
   "metadata": {},
   "outputs": [],
   "source": [
    "fig, ax = plt.subplots(figsize=(20, 30))\n",
    "xgb.plot_importance(grid, title=\"Feature importance\")"
   ]
  },
  {
   "cell_type": "code",
   "execution_count": null,
   "metadata": {},
   "outputs": [],
   "source": [
    "BEST PARAMS ARE: {'svd__n_components': 150, 'xgb__colsample_bytree': 0.9, 'xgb__gamma': 0, 'xgb__learning_rate': 0.1, 'xgb__max_depth': 12, 'xgb__n_estimators': 400, 'xgb__reg_alpha': 0.1, 'xgb__subsample': 0.9}\n",
    "SCORE: 0.9449510184640867\n",
    "ROC AUC SCORE: 0.8752480504218072"
   ]
  },
  {
   "cell_type": "markdown",
   "metadata": {},
   "source": [
    "#### LightGBM"
   ]
  },
  {
   "cell_type": "code",
   "execution_count": null,
   "metadata": {},
   "outputs": [],
   "source": [
    "transformer = transform(data4)\n",
    "X_train, X_test, y_train, y_test = X_y(data4)\n",
    "\n",
    "svd = TruncatedSVD()\n",
    "lgbm = LGBMClassifier(random_state=42, tree_method='gpu_hist', gpu_id=0, predictor = 'gpu_predictor', sampling_method='gradient_based')\n",
    "pipe = Pipeline(steps=[('transformer', transformer), ('svd', svd), ('lgbm', lgbm)])\n",
    "param_grid = {\n",
    "    'svd__n_components': [150],\n",
    "    'lgbm__learning_rate': [0.1],\n",
    "    'lgbm__n_estimators': range(50,400,50),\n",
    "    'lgbm__max_depth': range(6,16,2),\n",
    "    'lgbm__gamma': [0],\n",
    "    'lgbm__subsample': [1,0.9],\n",
    "    'lgbm__colsample_bytree': [0.9],\n",
    "    'lgbm__reg_alpha': [0.1]\n",
    "}\n",
    "\n",
    "grid = GridSearchCV(pipe, param_grid, cv=5, verbose=2, n_jobs=8)\n",
    "grid.fit(X_train, y_train)\n",
    "\n",
    "lgbm_roc_auc, lgbm_precision, lgbm_recall = metrics(grid, X_test, y_test, 'LGBM')"
   ]
  },
  {
   "cell_type": "markdown",
   "metadata": {},
   "source": [
    "#### HistGradientBoostingClassifier"
   ]
  },
  {
   "cell_type": "code",
   "execution_count": null,
   "metadata": {},
   "outputs": [],
   "source": [
    "transformer = transform(data4)\n",
    "X_train, X_test, y_train, y_test = X_y(data4)\n",
    "\n",
    "svd = TruncatedSVD()\n",
    "hist = HistGradientBoostingClassifier(random_state=42)\n",
    "pipe = Pipeline(steps=[('transformer', transformer), ('svd', svd), ('lgbm', lgbm)])\n",
    "param_grid = {\n",
    "    'svd__n_components': [150],\n",
    "    'lgbm__learning_rate': [0.1, 0.5],\n",
    "    'lgbm__max_iter': [50,100,150],#range(50,400,50),\n",
    "    'lgbm__max_depth': range(6,16,2),\n",
    "    'lgbm__reg_alpha': [0.1]\n",
    "}\n",
    "\n",
    "grid = GridSearchCV(pipe, param_grid, cv=5, verbose=2, n_jobs=8)\n",
    "grid.fit(X_train, y_train)\n",
    "\n",
    "hgb_roc_auc, hgb_precision, hgb_recall = metrics(grid, X_test, y_test, 'HIST')"
   ]
  }
 ],
 "metadata": {
  "kernelspec": {
   "display_name": "keras1",
   "language": "python",
   "name": "keras1"
  },
  "language_info": {
   "codemirror_mode": {
    "name": "ipython",
    "version": 3
   },
   "file_extension": ".py",
   "mimetype": "text/x-python",
   "name": "python",
   "nbconvert_exporter": "python",
   "pygments_lexer": "ipython3",
   "version": "3.7.6"
  }
 },
 "nbformat": 4,
 "nbformat_minor": 4
}
